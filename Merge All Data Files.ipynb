{
 "cells": [
  {
   "cell_type": "code",
   "execution_count": 1,
   "metadata": {},
   "outputs": [
    {
     "name": "stdout",
     "output_type": "stream",
     "text": [
      "Elapsed time: 19.377200603485107\n"
     ]
    }
   ],
   "source": [
    "import time\n",
    "\n",
    "walking_data = \"data/walking/processed_augmented_walking_data.txt\"\n",
    "sitting_data = \"data/sitting/processed_augmented_sitting_data.txt\"\n",
    "standing_data = \"data/standing/processed_augmented_standing_data.txt\"\n",
    "falling_data = \"processed_augmented_falling_data2.txt\"\n",
    "data_list = [walking_data, sitting_data, standing_data, falling_data]\n",
    "\n",
    "t= time.time()\n",
    "with open(f\"dataAccelGyroX3.txt\", \"a+\") as append_file:\n",
    "    for i in range(len(data_list)):\n",
    "        with open(data_list[i], \"r\") as data_file:\n",
    "            for data in data_file:\n",
    "                append_file.write(data)\n",
    "                \n",
    "print(f\"Elapsed time: {time.time() - t}\")"
   ]
  },
  {
   "cell_type": "code",
   "execution_count": null,
   "metadata": {},
   "outputs": [],
   "source": []
  }
 ],
 "metadata": {
  "kernelspec": {
   "display_name": "Python 3",
   "language": "python",
   "name": "python3"
  },
  "language_info": {
   "codemirror_mode": {
    "name": "ipython",
    "version": 3
   },
   "file_extension": ".py",
   "mimetype": "text/x-python",
   "name": "python",
   "nbconvert_exporter": "python",
   "pygments_lexer": "ipython3",
   "version": "3.7.6"
  }
 },
 "nbformat": 4,
 "nbformat_minor": 2
}
